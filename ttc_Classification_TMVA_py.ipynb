{
 "cells": [
  {
   "cell_type": "markdown",
   "metadata": {},
   "source": [
    "<img src=\"tmva_logo.gif\" height=\"20%\" width=\"20%\">\n",
    "\n",
    "# TMVA tt+charm(bar) Classification in Python\n",
    "\n",
    "Adpt from the tutorial TMVA higgs classification example.\n",
    "Use some of the native TMVA methods and methods from Keras and scikit-learn."
   ]
  },
  {
   "cell_type": "code",
   "execution_count": 1,
   "metadata": {},
   "outputs": [
    {
     "name": "stdout",
     "output_type": "stream",
     "text": [
      "Welcome to JupyROOT 6.20/06\n"
     ]
    }
   ],
   "source": [
    "import ROOT\n",
    "from ROOT import TMVA"
   ]
  },
  {
   "cell_type": "markdown",
   "metadata": {},
   "source": [
    "## Declare Factory\n",
    "\n",
    " - The first argument is the base of the name of all the output\n",
    "weightfiles in the directory weight/ that will be created with the \n",
    "method parameters \n",
    "\n",
    " - The second argument is the output file for the training results\n",
    "  \n",
    " - The third argument is a string option defining some general configuration for the TMVA session. For example all TMVA output can be suppressed by removing the \"!\" (not) in front of the \"Silent\" argument in the option string"
   ]
  },
  {
   "cell_type": "code",
   "execution_count": 2,
   "metadata": {},
   "outputs": [],
   "source": [
    "ROOT.TMVA.Tools.Instance()\n",
    "## For PYMVA methods\n",
    "TMVA.PyMethodBase.PyInitialize();\n",
    "\n",
    "\n",
    "outputFile = ROOT.TFile.Open(\"/eos/user/e/efe/DataAnalysis/ntuples_and_plots/11nov/TMVA_ClassificationOutput.root\", \"RECREATE\") \n",
    "factory = ROOT.TMVA.Factory(\"TMVA_ClassificationOutput\", outputFile,\n",
    "                      \"!V:ROC:!Silent:Color:!DrawProgressBar:AnalysisType=Classification\" )"
   ]
  },
  {
   "cell_type": "markdown",
   "metadata": {},
   "source": [
    "## Input Data\n"
   ]
  },
  {
   "cell_type": "code",
   "execution_count": 3,
   "metadata": {},
   "outputs": [
    {
     "name": "stdout",
     "output_type": "stream",
     "text": [
      "******************************************************************************\n",
      "*Tree    :TreeInput : TreeInput                                              *\n",
      "*Entries :   411307 : Total =        51178069 bytes  File  Size =   42393411 *\n",
      "*        :          : Tree compression factor =   1.21                       *\n",
      "******************************************************************************\n",
      "*Br    0 :event     : event/I                                                *\n",
      "*Entries :   411307 : Total  Size=    1650771 bytes  File Size  =    1303741 *\n",
      "*Baskets :       54 : Basket Size=      32000 bytes  Compression=   1.27     *\n",
      "*............................................................................*\n",
      "*Br    1 :run       : run/i                                                  *\n",
      "*Entries :   411307 : Total  Size=    1650655 bytes  File Size  =      13978 *\n",
      "*Baskets :       54 : Basket Size=      32000 bytes  Compression= 117.99     *\n",
      "*............................................................................*\n",
      "*Br    2 :lumi      : lumi/i                                                 *\n",
      "*Entries :   411307 : Total  Size=    1650713 bytes  File Size  =      28935 *\n",
      "*Baskets :       54 : Basket Size=      32000 bytes  Compression=  57.00     *\n",
      "*............................................................................*\n",
      "*Br    3 :t_weight  : t_weight/F                                             *\n",
      "*Entries :   411307 : Total  Size=    1650945 bytes  File Size  =    1480846 *\n",
      "*Baskets :       54 : Basket Size=      32000 bytes  Compression=   1.11     *\n",
      "*............................................................................*\n",
      "*Br    4 :CvsL1     : CvsL1/F                                                *\n",
      "*Entries :   411307 : Total  Size=    1650771 bytes  File Size  =    1473834 *\n",
      "*Baskets :       54 : Basket Size=      32000 bytes  Compression=   1.12     *\n",
      "*............................................................................*\n",
      "*Br    5 :CvsB1     : CvsB1/F                                                *\n",
      "*Entries :   411307 : Total  Size=    1650771 bytes  File Size  =    1490046 *\n",
      "*Baskets :       54 : Basket Size=      32000 bytes  Compression=   1.11     *\n",
      "*............................................................................*\n",
      "*Br    6 :CvsL2     : CvsL2/F                                                *\n",
      "*Entries :   411307 : Total  Size=    1650771 bytes  File Size  =    1453262 *\n",
      "*Baskets :       54 : Basket Size=      32000 bytes  Compression=   1.13     *\n",
      "*............................................................................*\n",
      "*Br    7 :CvsB2     : CvsB2/F                                                *\n",
      "*Entries :   411307 : Total  Size=    1650771 bytes  File Size  =    1519730 *\n",
      "*Baskets :       54 : Basket Size=      32000 bytes  Compression=   1.09     *\n",
      "*............................................................................*\n",
      "*Br    8 :CvsL3     : CvsL3/F                                                *\n",
      "*Entries :   411307 : Total  Size=    1650771 bytes  File Size  =    1456689 *\n",
      "*Baskets :       54 : Basket Size=      32000 bytes  Compression=   1.13     *\n",
      "*............................................................................*\n",
      "*Br    9 :CvsB3     : CvsB3/F                                                *\n",
      "*Entries :   411307 : Total  Size=    1650771 bytes  File Size  =    1514728 *\n",
      "*Baskets :       54 : Basket Size=      32000 bytes  Compression=   1.09     *\n",
      "*............................................................................*\n",
      "*Br   10 :t_m_lep_jet1 : t_m_lep_jet1/F                                      *\n",
      "*Entries :   411307 : Total  Size=    1651177 bytes  File Size  =    1463921 *\n",
      "*Baskets :       54 : Basket Size=      32000 bytes  Compression=   1.13     *\n",
      "*............................................................................*\n",
      "*Br   11 :t_m_lep_bottom : t_m_lep_bottom/F                                  *\n",
      "*Entries :   411307 : Total  Size=    1651293 bytes  File Size  =     768478 *\n",
      "*Baskets :       54 : Basket Size=      32000 bytes  Compression=   2.15     *\n",
      "*............................................................................*\n",
      "*Br   12 :t_HT      : t_HT/F                                                 *\n",
      "*Entries :   411307 : Total  Size=    1650713 bytes  File Size  =    1457235 *\n",
      "*Baskets :       54 : Basket Size=      32000 bytes  Compression=   1.13     *\n",
      "*............................................................................*\n",
      "*Br   13 :t_dphi_ll : t_dphi_ll/F                                            *\n",
      "*Entries :   411307 : Total  Size=    1651003 bytes  File Size  =    1511823 *\n",
      "*Baskets :       54 : Basket Size=      32000 bytes  Compression=   1.09     *\n",
      "*............................................................................*\n",
      "*Br   14 :t_deepcsv : t_deepcsv/F                                            *\n",
      "*Entries :   411307 : Total  Size=    1651003 bytes  File Size  =    1456828 *\n",
      "*Baskets :       54 : Basket Size=      32000 bytes  Compression=   1.13     *\n",
      "*............................................................................*\n",
      "*Br   15 :t_pt_l1   : t_pt_l1/F                                              *\n",
      "*Entries :   411307 : Total  Size=    1650887 bytes  File Size  =    1443909 *\n",
      "*Baskets :       54 : Basket Size=      32000 bytes  Compression=   1.14     *\n",
      "*............................................................................*\n",
      "*Br   16 :t_pt_l2   : t_pt_l2/F                                              *\n",
      "*Entries :   411307 : Total  Size=    1650887 bytes  File Size  =    1458896 *\n",
      "*Baskets :       54 : Basket Size=      32000 bytes  Compression=   1.13     *\n",
      "*............................................................................*\n",
      "*Br   17 :t_eta_l1  : t_eta_l1/F                                             *\n",
      "*Entries :   411307 : Total  Size=    1650945 bytes  File Size  =    1525233 *\n",
      "*Baskets :       54 : Basket Size=      32000 bytes  Compression=   1.08     *\n",
      "*............................................................................*\n",
      "*Br   18 :t_eta_l2  : t_eta_l2/F                                             *\n",
      "*Entries :   411307 : Total  Size=    1650945 bytes  File Size  =    1525841 *\n",
      "*Baskets :       54 : Basket Size=      32000 bytes  Compression=   1.08     *\n",
      "*............................................................................*\n",
      "*Br   19 :t_phi_l1  : t_phi_l1/F                                             *\n",
      "*Entries :   411307 : Total  Size=    1650945 bytes  File Size  =    1524954 *\n",
      "*Baskets :       54 : Basket Size=      32000 bytes  Compression=   1.08     *\n",
      "*............................................................................*\n",
      "*Br   20 :t_phi_l2  : t_phi_l2/F                                             *\n",
      "*Entries :   411307 : Total  Size=    1650945 bytes  File Size  =    1524682 *\n",
      "*Baskets :       54 : Basket Size=      32000 bytes  Compression=   1.08     *\n",
      "*............................................................................*\n",
      "*Br   21 :t_pt_j1   : t_pt_j1/F                                              *\n",
      "*Entries :   411307 : Total  Size=    1650887 bytes  File Size  =    1459947 *\n",
      "*Baskets :       54 : Basket Size=      32000 bytes  Compression=   1.13     *\n",
      "*............................................................................*\n",
      "*Br   22 :t_pt_j2   : t_pt_j2/F                                              *\n",
      "*Entries :   411307 : Total  Size=    1650887 bytes  File Size  =    1460196 *\n",
      "*Baskets :       54 : Basket Size=      32000 bytes  Compression=   1.13     *\n",
      "*............................................................................*\n",
      "*Br   23 :t_pt_j3   : t_pt_j3/F                                              *\n",
      "*Entries :   411307 : Total  Size=    1650887 bytes  File Size  =    1453797 *\n",
      "*Baskets :       54 : Basket Size=      32000 bytes  Compression=   1.13     *\n",
      "*............................................................................*\n",
      "*Br   24 :t_eta_j1  : t_eta_j1/F                                             *\n",
      "*Entries :   411307 : Total  Size=    1650945 bytes  File Size  =    1524709 *\n",
      "*Baskets :       54 : Basket Size=      32000 bytes  Compression=   1.08     *\n",
      "*............................................................................*\n",
      "*Br   25 :t_eta_j2  : t_eta_j2/F                                             *\n",
      "*Entries :   411307 : Total  Size=    1650945 bytes  File Size  =    1524798 *\n",
      "*Baskets :       54 : Basket Size=      32000 bytes  Compression=   1.08     *\n",
      "*............................................................................*\n",
      "*Br   26 :t_eta_j3  : t_eta_j3/F                                             *\n",
      "*Entries :   411307 : Total  Size=    1650945 bytes  File Size  =    1524281 *\n",
      "*Baskets :       54 : Basket Size=      32000 bytes  Compression=   1.08     *\n",
      "*............................................................................*\n",
      "*Br   27 :t_phi_j1  : t_phi_j1/F                                             *\n",
      "*Entries :   411307 : Total  Size=    1650945 bytes  File Size  =    1524597 *\n",
      "*Baskets :       54 : Basket Size=      32000 bytes  Compression=   1.08     *\n",
      "*............................................................................*\n",
      "*Br   28 :t_phi_j2  : t_phi_j2/F                                             *\n",
      "*Entries :   411307 : Total  Size=    1650945 bytes  File Size  =    1524576 *\n",
      "*Baskets :       54 : Basket Size=      32000 bytes  Compression=   1.08     *\n",
      "*............................................................................*\n",
      "*Br   29 :t_phi_j3  : t_phi_j3/F                                             *\n",
      "*Entries :   411307 : Total  Size=    1650945 bytes  File Size  =    1524816 *\n",
      "*Baskets :       54 : Basket Size=      32000 bytes  Compression=   1.08     *\n",
      "*............................................................................*\n",
      "*Br   30 :t_met     : t_met/F                                                *\n",
      "*Entries :   411307 : Total  Size=    1650771 bytes  File Size  =    1459537 *\n",
      "*Baskets :       54 : Basket Size=      32000 bytes  Compression=   1.13     *\n",
      "*............................................................................*\n"
     ]
    }
   ],
   "source": [
    "#inputFileName = \"root://eosuser.cern.ch//eos/user/e/efe/SWAN_projects/tmva-tutorial/notebooks/MC13TeV_2017_TAToTTQ_MA-scan_TuneCP5_13TeV_G2HDM-rtc04.root\"\n",
    "#inputFileName2 = \"root://eosuser.cern.ch//eos/user/e/efe/SWAN_projects/tmva-tutorial/notebooks/MC13TeV_2017_TTJets.root\"\n",
    "#inputFileName4 = \"root://eosuser.cern.ch//eos/user/e/efe/SWAN_projects/tmva-tutorial/notebooks/MC13TeV_2017_TTWJetsToLNu.root\"\n",
    "#inputFileName5 = \"root://eosuser.cern.ch//eos/user/e/efe/SWAN_projects/tmva-tutorial/notebooks/MC13TeV_2017_TTZToLLNuNu.root\"\n",
    "#inputFileName6 = \"root://eosuser.cern.ch//eos/user/e/efe/SWAN_projects/tmva-tutorial/notebooks/MC13TeV_2017_tZq_ll.root\"\n",
    "\n",
    "inputFileName = \"/eos/user/e/efe/DataAnalysis/ntuples_and_plots/11nov/MC13TeV_2017_TAToTTQ_MA-scan_TuneCP5_13TeV_G2HDM-rtc04.root\"\n",
    "inputFileName2 = \"/eos/user/e/efe/DataAnalysis/ntuples_and_plots/11nov/MC13TeV_2017_TTJets.root\"\n",
    "inputFileName4 = \"/eos/user/e/efe/DataAnalysis/ntuples_and_plots/11nov/MC13TeV_2017_TTWJetsToLNu.root\"\n",
    "inputFileName5 = \"/eos/user/e/efe/DataAnalysis/ntuples_and_plots/11nov/MC13TeV_2017_TTZToLLNuNu.root\"\n",
    "inputFileName6 = \"/eos/user/e/efe/DataAnalysis/ntuples_and_plots/11nov/MC13TeV_2017_tZq_ll.root\"\n",
    "\n",
    "inputFile = ROOT.TFile.Open( inputFileName )\n",
    "inputFile2 = ROOT.TFile.Open( inputFileName2 )\n",
    "inputFile4 = ROOT.TFile.Open( inputFileName4 )\n",
    "inputFile5 = ROOT.TFile.Open( inputFileName5 )\n",
    "inputFile6 = ROOT.TFile.Open( inputFileName6 )\n",
    "\n",
    "# retrieve input trees\n",
    "\n",
    "signalTree     = inputFile.Get(\"TreeInput\")\n",
    "TTJets = inputFile2.Get(\"TreeInput\")\n",
    "TTWJetsToLNu = inputFile4.Get(\"TreeInput\")\n",
    "TTZToLLNuNu = inputFile5.Get(\"TreeInput\")\n",
    "tZq_ll = inputFile6.Get(\"TreeInput\")\n",
    "\n",
    "\n",
    "signalTree.Print()\n",
    "#TTJets.Print()\n",
    "#TTWJetsToLNu.Print()\n",
    "#TTZToLLNuNu.Print()\n",
    "#tZq_ll.Print()\n"
   ]
  },
  {
   "cell_type": "markdown",
   "metadata": {},
   "source": [
    "## Declare DataLoader(s)\n",
    "\n",
    "Declare the DataLoader class that deals with input data and variables \n",
    "\n",
    "We add first the signal and background trees in the data loader and then we\n",
    "define the input variables that shall be used for the MVA training\n",
    "note that you may also use variable expressions, which can be parsed by TTree::Draw( \"expression\" )]"
   ]
  },
  {
   "cell_type": "code",
   "execution_count": 11,
   "metadata": {},
   "outputs": [
    {
     "name": "stdout",
     "output_type": "stream",
     "text": [
      "create data set info dataset\n",
      "DataSetInfo              : [dataset] : Added class \"Signal\"\n",
      "                         : Add Tree TreeInput of type Signal with 411307 events\n",
      "DataSetInfo              : [dataset] : Added class \"Background\"\n",
      "                         : Add Tree TreeInput of type Background with 54906 events\n",
      "                         : Add Tree TreeInput of type Background with 56082 events\n",
      "                         : Add Tree TreeInput of type Background with 26302 events\n"
     ]
    }
   ],
   "source": [
    "loader = ROOT.TMVA.DataLoader(\"dataset\")\n",
    "\n",
    "### global event weights per tree (see below for setting event-wise weights)\n",
    "signalWeight     = 1.0\n",
    "backgroundWeight = 1.0\n",
    "   \n",
    "### You can add an arbitrary number of signal or background trees\n",
    "loader.AddSignalTree    ( signalTree,    signalWeight      )#411307*0.043264=17794.786\n",
    "#loader.AddBackgroundTree( TTJets,  backgroundWeight)#3534*832=2940288.0\n",
    "loader.AddBackgroundTree( TTWJetsToLNu,  backgroundWeight)#54906*0.2198=12068.3388\n",
    "loader.AddBackgroundTree( TTZToLLNuNu,  backgroundWeight)#56082*0.2432=13639.1424\n",
    "loader.AddBackgroundTree( tZq_ll,  backgroundWeight)#26302*0.0735=1935.30116\n",
    "\n",
    "## Define input variables \n",
    "loader.AddVariable( \"CvsL1\", \"CvsL1\", \"\", 'F' )\n",
    "loader.AddVariable( \"CvsB1\", \"CvsB1\", \"\", 'F' )\n",
    "loader.AddVariable( \"CvsL2\", \"CvsL2\", \"\", 'F' )\n",
    "loader.AddVariable( \"CvsB2\", \"CvsB2\", \"\", 'F' )\n",
    "loader.AddVariable( \"CvsL3\", \"CvsL3\", \"\", 'F' )\n",
    "loader.AddVariable( \"CvsB3\", \"CvsB3\", \"\", 'F' )\n",
    "loader.AddVariable( \"t_m_lep_jet1\", \"t_m_lep_jet1\", \"GeV\", 'F' )#7 imp\n",
    "#loader.AddVariable( \"t_m_lep_bottom\",       \"t_m_lep_bottom\", \"GeV\", 'F' )\n",
    "loader.AddVariable( \"t_dphi_ll\", \"t_dphi_ll\", \"units\", 'F' ) # 8\n",
    "#loader.AddVariable(\"t_deepcsv\")\n",
    "loader.AddVariable(\"t_pt_l1\")\n",
    "loader.AddVariable(\"t_pt_l2\")\n",
    "loader.AddVariable(\"t_eta_l1\")\n",
    "loader.AddVariable(\"t_eta_l2\")\n",
    "loader.AddVariable(\"t_phi_l1\")\n",
    "loader.AddVariable(\"t_phi_l2\")\n",
    "loader.AddVariable(\"t_pt_j1\")\n",
    "loader.AddVariable(\"t_pt_j2\")\n",
    "loader.AddVariable(\"t_pt_j3\")\n",
    "loader.AddVariable(\"t_eta_j1\")\n",
    "loader.AddVariable(\"t_eta_j2\")\n",
    "loader.AddVariable(\"t_eta_j3\")\n",
    "loader.AddVariable(\"t_phi_j1\")\n",
    "loader.AddVariable(\"t_phi_j2\")\n",
    "loader.AddVariable(\"t_phi_j3\")\n",
    "#loader.AddVariable(\"t_met\")\n",
    "loader.AddVariable(\"t_HT\") #24\n",
    "\n",
    "loader.SetSignalWeightExpression(\"t_weight\");\n",
    "loader.SetBackgroundWeightExpression(\"t_weight\" );"
   ]
  },
  {
   "cell_type": "markdown",
   "metadata": {},
   "source": [
    "## Setup Dataset(s)\n",
    "\n",
    "Setup the DataLoader by splitting events in training and test samples. \n",
    "Here we use a random split and a fixed number of training and test events.\n"
   ]
  },
  {
   "cell_type": "code",
   "execution_count": 5,
   "metadata": {},
   "outputs": [],
   "source": [
    "\n",
    "## Apply additional cuts on the signal and background samples (can be different)\n",
    "mycuts = ROOT.TCut(\"\")   ## for example: TCut mycuts = \"abs(var1)<0.5 && abs(var2-0.5)<1\";\n",
    "mycutb = ROOT.TCut(\"\")   ## for example: TCut mycutb = \"abs(var1)<0.5\";\n",
    "\n",
    "\n",
    "loader.PrepareTrainingAndTestTree( mycuts, mycutb,\n",
    "                                  \"nTrain_Signal=100000:nTrain_Background=50000:SplitMode=Random:\n",
    "                                  NormMode=None:!V\")\n",
    "                                  # \"NormMode=NumEvents:!V\" )\n",
    "                                  #\"SplitMode=Random:NormMode=None:!V\") \n",
    "                                  # \"SplitMode=Random:NormMode=NumEvents:!V\")  \n",
    "                                  #\"SplitMode=Random:NormMode=EqualNumEvents:!V\")"
   ]
  },
  {
   "cell_type": "markdown",
   "metadata": {},
   "source": [
    "# Booking Methods\n",
    "\n",
    "Here we book the TMVA methods. We book a Likelihood based a BDT and a standard MLP (shallow NN)"
   ]
  },
  {
   "cell_type": "code",
   "execution_count": 6,
   "metadata": {},
   "outputs": [
    {
     "data": {
      "text/plain": [
       "<ROOT.TMVA::MethodBDT object (\"BDT\") at 0x74c7fd0>"
      ]
     },
     "execution_count": 6,
     "metadata": {},
     "output_type": "execute_result"
    },
    {
     "name": "stdout",
     "output_type": "stream",
     "text": [
      "Factory                  : Booking method: \u001b[1mBDT\u001b[0m\n",
      "                         : \n",
      "                         : Building event vectors for type 2 Signal\n",
      "                         : Dataset[dataset] :  create input formulas for tree TreeInput\n",
      "                         : Building event vectors for type 2 Background\n",
      "                         : Dataset[dataset] :  create input formulas for tree TreeInput\n",
      "                         : Building event vectors for type 2 Background\n",
      "                         : Dataset[dataset] :  create input formulas for tree TreeInput\n",
      "                         : Building event vectors for type 2 Background\n",
      "                         : Dataset[dataset] :  create input formulas for tree TreeInput\n",
      "DataSetFactory           : [dataset] : Number of events in input trees\n",
      "                         : \n",
      "                         : \n",
      "                         : Dataset[dataset] : No weight renormalisation applied: use original global and event weights\n",
      "DataSetInfo              : Correlation matrix (Signal):\n",
      "                         : ------------------------------------------------------------------------------------------------------------------------------------------------------------------------------------------------------------------------------\n",
      "                         :                 CvsL1   CvsB1   CvsL2   CvsB2   CvsL3   CvsB3 t_m_lep_jet1 t_dphi_ll t_pt_l1 t_pt_l2 t_eta_l1 t_eta_l2 t_phi_l1 t_phi_l2 t_pt_j1 t_pt_j2 t_pt_j3 t_eta_j1 t_eta_j2 t_eta_j3 t_phi_j1 t_phi_j2 t_phi_j3    t_HT\n",
      "                         :        CvsL1:  +1.000  -0.640  -0.147  +0.212  -0.149  +0.185       -0.163    +0.001  -0.037  -0.011   -0.004   -0.001   +0.004   -0.002  -0.177  -0.093  -0.080   -0.003   +0.000   -0.004   -0.014   +0.004   +0.004  -0.059\n",
      "                         :        CvsB1:  -0.640  +1.000  +0.224  -0.326  +0.204  -0.264       +0.125    -0.000  +0.005  -0.005   +0.000   -0.005   -0.008   +0.004  +0.094  +0.008  +0.017   -0.003   -0.002   -0.000   +0.005   -0.004   -0.003  +0.048\n",
      "                         :        CvsL2:  -0.147  +0.224  +1.000  -0.677  -0.111  +0.130       +0.019    +0.001  -0.022  -0.012   +0.003   -0.004   -0.002   +0.002  +0.017  -0.026  -0.059   -0.003   +0.000   +0.001   +0.002   -0.006   +0.004  -0.002\n",
      "                         :        CvsB2:  +0.212  -0.326  -0.677  +1.000  +0.141  -0.169       -0.040    -0.002  +0.017  +0.008   -0.004   +0.005   +0.001   -0.002  -0.056  +0.007  +0.054   +0.001   +0.004   -0.001   -0.002   +0.008   -0.007  -0.015\n",
      "                         :        CvsL3:  -0.149  +0.204  -0.111  +0.141  +1.000  -0.734       +0.030    +0.001  -0.017  -0.013   -0.000   +0.003   -0.003   -0.001  +0.031  +0.023  +0.043   +0.001   +0.001   -0.003   -0.004   +0.003   -0.006  +0.005\n",
      "                         :        CvsB3:  +0.185  -0.264  +0.130  -0.169  -0.734  +1.000       -0.043    +0.001  +0.018  +0.015   +0.000   -0.003   +0.003   -0.000  -0.039  -0.015  -0.015   +0.001   +0.000   +0.003   +0.003   -0.005   +0.010  -0.017\n",
      "                         : t_m_lep_jet1:  -0.163  +0.125  +0.019  -0.040  +0.030  -0.043       +1.000    -0.003  +0.574  +0.230   +0.004   +0.002   -0.002   +0.004  +0.546  +0.288  +0.170   +0.000   +0.002   +0.005   -0.001   -0.001   -0.002  +0.135\n",
      "                         :    t_dphi_ll:  +0.001  -0.000  +0.001  -0.002  +0.001  +0.001       -0.003    +1.000  -0.004  -0.003   +0.001   +0.008   -0.001   -0.002  +0.000  +0.000  -0.001   +0.004   +0.004   +0.001   +0.001   -0.003   -0.003  +0.001\n",
      "                         :      t_pt_l1:  -0.037  +0.005  -0.022  +0.017  -0.017  +0.018       +0.574    -0.004  +1.000  +0.490   +0.002   -0.001   +0.001   +0.002  +0.247  +0.130  +0.080   +0.003   +0.002   -0.000   +0.003   -0.000   -0.000  +0.057\n",
      "                         :      t_pt_l2:  -0.011  -0.005  -0.012  +0.008  -0.013  +0.015       +0.230    -0.003  +0.490  +1.000   -0.000   -0.002   +0.001   +0.002  +0.111  +0.062  +0.024   -0.002   -0.001   -0.002   +0.001   -0.002   +0.001  +0.030\n",
      "                         :     t_eta_l1:  -0.004  +0.000  +0.003  -0.004  -0.000  +0.000       +0.004    +0.001  +0.002  -0.000   +1.000   +0.121   -0.009   +0.001  -0.001  +0.001  -0.001   +0.344   +0.357   +0.303   -0.005   -0.000   +0.003  -0.002\n",
      "                         :     t_eta_l2:  -0.001  -0.005  -0.004  +0.005  +0.003  -0.003       +0.002    +0.008  -0.001  -0.002   +0.121   +1.000   +0.003   -0.009  +0.002  +0.003  +0.007   +0.363   +0.316   +0.232   -0.004   -0.003   +0.006  +0.001\n",
      "                         :     t_phi_l1:  +0.004  -0.008  -0.002  +0.001  -0.003  +0.003       -0.002    -0.001  +0.001  +0.001   -0.009   +0.003   +1.000   -0.134  -0.005  -0.004  -0.001   +0.004   +0.001   -0.000   -0.174   -0.051   -0.077  +0.002\n",
      "                         :     t_phi_l2:  -0.002  +0.004  +0.002  -0.002  -0.001  -0.000       +0.004    -0.002  +0.002  +0.002   +0.001   -0.009   -0.134   +1.000  +0.001  -0.000  -0.001   -0.007   -0.005   -0.003   -0.040   -0.050   -0.055  -0.001\n",
      "                         :      t_pt_j1:  -0.177  +0.094  +0.017  -0.056  +0.031  -0.039       +0.546    +0.000  +0.247  +0.111   -0.001   +0.002   -0.005   +0.001  +1.000  +0.668  +0.422   +0.003   +0.004   +0.003   +0.001   +0.001   -0.001  +0.218\n",
      "                         :      t_pt_j2:  -0.093  +0.008  -0.026  +0.007  +0.023  -0.015       +0.288    +0.000  +0.130  +0.062   +0.001   +0.003   -0.004   -0.000  +0.668  +1.000  +0.616   +0.003   +0.006   +0.002   +0.003   +0.001   -0.001  +0.154\n",
      "                         :      t_pt_j3:  -0.080  +0.017  -0.059  +0.054  +0.043  -0.015       +0.170    -0.001  +0.080  +0.024   -0.001   +0.007   -0.001   -0.001  +0.422  +0.616  +1.000   +0.002   +0.008   -0.000   +0.003   +0.003   -0.003  +0.110\n",
      "                         :     t_eta_j1:  -0.003  -0.003  -0.003  +0.001  +0.001  +0.001       +0.000    +0.004  +0.003  -0.002   +0.344   +0.363   +0.004   -0.007  +0.003  +0.003  +0.002   +1.000   +0.264   +0.198   -0.011   -0.000   +0.006  -0.002\n",
      "                         :     t_eta_j2:  +0.000  -0.002  +0.000  +0.004  +0.001  +0.000       +0.002    +0.004  +0.002  -0.001   +0.357   +0.316   +0.001   -0.005  +0.004  +0.006  +0.008   +0.264   +1.000   +0.151   +0.001   -0.005   +0.002  +0.001\n",
      "                         :     t_eta_j3:  -0.004  -0.000  +0.001  -0.001  -0.003  +0.003       +0.005    +0.001  -0.000  -0.002   +0.303   +0.232   -0.000   -0.003  +0.003  +0.002  -0.000   +0.198   +0.151   +1.000   -0.003   -0.001   -0.004  +0.001\n",
      "                         :     t_phi_j1:  -0.014  +0.005  +0.002  -0.002  -0.004  +0.003       -0.001    +0.001  +0.003  +0.001   -0.005   -0.004   -0.174   -0.040  +0.001  +0.003  +0.003   -0.011   +0.001   -0.003   +1.000   -0.252   -0.123  +0.001\n",
      "                         :     t_phi_j2:  +0.004  -0.004  -0.006  +0.008  +0.003  -0.005       -0.001    -0.003  -0.000  -0.002   -0.000   -0.003   -0.051   -0.050  +0.001  +0.001  +0.003   -0.000   -0.005   -0.001   -0.252   +1.000   -0.047  -0.002\n",
      "                         :     t_phi_j3:  +0.004  -0.003  +0.004  -0.007  -0.006  +0.010       -0.002    -0.003  -0.000  +0.001   +0.003   +0.006   -0.077   -0.055  -0.001  -0.001  -0.003   +0.006   +0.002   -0.004   -0.123   -0.047   +1.000  -0.001\n",
      "                         :         t_HT:  -0.059  +0.048  -0.002  -0.015  +0.005  -0.017       +0.135    +0.001  +0.057  +0.030   -0.002   +0.001   +0.002   -0.001  +0.218  +0.154  +0.110   -0.002   +0.001   +0.001   +0.001   -0.002   -0.001  +1.000\n",
      "                         : ------------------------------------------------------------------------------------------------------------------------------------------------------------------------------------------------------------------------------\n",
      "DataSetInfo              : Correlation matrix (Background):\n",
      "                         : ------------------------------------------------------------------------------------------------------------------------------------------------------------------------------------------------------------------------------\n",
      "                         :                 CvsL1   CvsB1   CvsL2   CvsB2   CvsL3   CvsB3 t_m_lep_jet1 t_dphi_ll t_pt_l1 t_pt_l2 t_eta_l1 t_eta_l2 t_phi_l1 t_phi_l2 t_pt_j1 t_pt_j2 t_pt_j3 t_eta_j1 t_eta_j2 t_eta_j3 t_phi_j1 t_phi_j2 t_phi_j3    t_HT\n",
      "                         :        CvsL1:  +1.000  -0.804  -0.140  +0.164  -0.244  +0.239       -0.180    +0.019  -0.061  -0.043   +0.002   -0.013   +0.003   +0.008  -0.231  -0.192  -0.206   +0.011   +0.000   +0.004   -0.026   +0.007   -0.008  +0.022\n",
      "                         :        CvsB1:  -0.804  +1.000  +0.146  -0.169  +0.257  -0.253       +0.132    -0.014  +0.036  +0.029   -0.001   +0.006   -0.006   -0.006  +0.149  +0.142  +0.173   -0.017   -0.006   -0.005   +0.012   -0.009   +0.018  -0.022\n",
      "                         :        CvsL2:  -0.140  +0.146  +1.000  -0.811  -0.235  +0.248       -0.024    +0.001  -0.043  -0.037   +0.018   -0.002   +0.010   -0.025  -0.028  -0.066  -0.116   -0.007   +0.008   -0.011   -0.008   +0.002   +0.012  -0.032\n",
      "                         :        CvsB2:  +0.164  -0.169  -0.811  +1.000  +0.260  -0.270       +0.014    -0.003  +0.043  +0.027   -0.019   -0.006   -0.005   +0.022  +0.015  +0.044  +0.113   +0.010   -0.008   -0.007   -0.003   +0.001   -0.018  +0.006\n",
      "                         :        CvsL3:  -0.244  +0.257  -0.235  +0.260  +1.000  -0.816       +0.042    +0.001  +0.007  -0.018   -0.002   -0.015   -0.000   -0.005  +0.033  +0.020  +0.036   -0.010   -0.012   +0.010   +0.013   +0.023   -0.001  -0.007\n",
      "                         :        CvsB3:  +0.239  -0.253  +0.248  -0.270  -0.816  +1.000       -0.041    +0.002  -0.006  +0.016   +0.012   +0.020   -0.016   +0.008  -0.029  -0.013  -0.025   +0.013   +0.021   +0.004   +0.010   -0.011   -0.008  +0.034\n",
      "                         : t_m_lep_jet1:  -0.180  +0.132  -0.024  +0.014  +0.042  -0.041       +1.000    +0.004  +0.666  +0.292   -0.006   +0.002   +0.005   -0.012  +0.606  +0.384  +0.271   -0.002   +0.006   -0.026   -0.023   -0.004   +0.009  +0.003\n",
      "                         :    t_dphi_ll:  +0.019  -0.014  +0.001  -0.003  +0.001  +0.002       +0.004    +1.000  +0.005  +0.018   +0.013   -0.012   +0.012   +0.000  -0.017  -0.012  -0.013   +0.011   +0.011   -0.009   +0.003   -0.007   -0.001  -0.015\n",
      "                         :      t_pt_l1:  -0.061  +0.036  -0.043  +0.043  +0.007  -0.006       +0.666    +0.005  +1.000  +0.471   -0.011   +0.006   -0.005   -0.006  +0.315  +0.196  +0.150   +0.009   -0.000   -0.011   -0.011   -0.000   -0.000  +0.023\n",
      "                         :      t_pt_l2:  -0.043  +0.029  -0.037  +0.027  -0.018  +0.016       +0.292    +0.018  +0.471  +1.000   +0.002   +0.013   -0.021   -0.001  +0.159  +0.111  +0.087   +0.001   -0.014   -0.005   -0.003   -0.009   +0.020  +0.016\n",
      "                         :     t_eta_l1:  +0.002  -0.001  +0.018  -0.019  -0.002  +0.012       -0.006    +0.013  -0.011  +0.002   +1.000   +0.225   -0.027   +0.006  -0.003  -0.004  +0.009   +0.304   +0.267   +0.212   +0.002   -0.003   -0.017  +0.020\n",
      "                         :     t_eta_l2:  -0.013  +0.006  -0.002  -0.006  -0.015  +0.020       +0.002    -0.012  +0.006  +0.013   +0.225   +1.000   +0.014   -0.034  +0.015  +0.015  +0.015   +0.297   +0.231   +0.192   +0.001   -0.013   +0.002  -0.015\n",
      "                         :     t_phi_l1:  +0.003  -0.006  +0.010  -0.005  -0.000  -0.016       +0.005    +0.012  -0.005  -0.021   -0.027   +0.014   +1.000   -0.088  +0.001  -0.006  +0.004   -0.000   +0.013   -0.011   -0.221   -0.072   -0.114  +0.042\n",
      "                         :     t_phi_l2:  +0.008  -0.006  -0.025  +0.022  -0.005  +0.008       -0.012    +0.000  -0.006  -0.001   +0.006   -0.034   -0.088   +1.000  -0.002  -0.002  -0.008   -0.002   -0.009   +0.006   -0.069   -0.063   -0.051  +0.008\n",
      "                         :      t_pt_j1:  -0.231  +0.149  -0.028  +0.015  +0.033  -0.029       +0.606    -0.017  +0.315  +0.159   -0.003   +0.015   +0.001   -0.002  +1.000  +0.714  +0.515   +0.011   +0.001   -0.024   -0.005   +0.007   +0.003  +0.021\n",
      "                         :      t_pt_j2:  -0.192  +0.142  -0.066  +0.044  +0.020  -0.013       +0.384    -0.012  +0.196  +0.111   -0.004   +0.015   -0.006   -0.002  +0.714  +1.000  +0.691   +0.010   +0.001   -0.019   +0.000   +0.006   +0.005  +0.014\n",
      "                         :      t_pt_j3:  -0.206  +0.173  -0.116  +0.113  +0.036  -0.025       +0.271    -0.013  +0.150  +0.087   +0.009   +0.015   +0.004   -0.008  +0.515  +0.691  +1.000   +0.003   -0.005   -0.004   +0.007   -0.003   -0.003  +0.027\n",
      "                         :     t_eta_j1:  +0.011  -0.017  -0.007  +0.010  -0.010  +0.013       -0.002    +0.011  +0.009  +0.001   +0.304   +0.297   -0.000   -0.002  +0.011  +0.010  +0.003   +1.000   +0.256   +0.227   -0.009   -0.004   +0.002  +0.021\n",
      "                         :     t_eta_j2:  +0.000  -0.006  +0.008  -0.008  -0.012  +0.021       +0.006    +0.011  -0.000  -0.014   +0.267   +0.231   +0.013   -0.009  +0.001  +0.001  -0.005   +0.256   +1.000   +0.248   +0.005   -0.021   +0.000  -0.041\n",
      "                         :     t_eta_j3:  +0.004  -0.005  -0.011  -0.007  +0.010  +0.004       -0.026    -0.009  -0.011  -0.005   +0.212   +0.192   -0.011   +0.006  -0.024  -0.019  -0.004   +0.227   +0.248   +1.000   -0.003   -0.002   -0.008  -0.036\n",
      "                         :     t_phi_j1:  -0.026  +0.012  -0.008  -0.003  +0.013  +0.010       -0.023    +0.003  -0.011  -0.003   +0.002   +0.001   -0.221   -0.069  -0.005  +0.000  +0.007   -0.009   +0.005   -0.003   +1.000   -0.136   -0.062  -0.028\n",
      "                         :     t_phi_j2:  +0.007  -0.009  +0.002  +0.001  +0.023  -0.011       -0.004    -0.007  -0.000  -0.009   -0.003   -0.013   -0.072   -0.063  +0.007  +0.006  -0.003   -0.004   -0.021   -0.002   -0.136   +1.000   -0.027  -0.016\n",
      "                         :     t_phi_j3:  -0.008  +0.018  +0.012  -0.018  -0.001  -0.008       +0.009    -0.001  -0.000  +0.020   -0.017   +0.002   -0.114   -0.051  +0.003  +0.005  -0.003   +0.002   +0.000   -0.008   -0.062   -0.027   +1.000  +0.003\n",
      "                         :         t_HT:  +0.022  -0.022  -0.032  +0.006  -0.007  +0.034       +0.003    -0.015  +0.023  +0.016   +0.020   -0.015   +0.042   +0.008  +0.021  +0.014  +0.027   +0.021   -0.041   -0.036   -0.028   -0.016   +0.003  +1.000\n",
      "                         : ------------------------------------------------------------------------------------------------------------------------------------------------------------------------------------------------------------------------------\n",
      "DataSetFactory           : [dataset] :  \n",
      "                         : \n"
     ]
    }
   ],
   "source": [
    "## Boosted Decision Trees\n",
    "factory.BookMethod(loader,ROOT.TMVA.Types.kBDT, \"BDT\",\n",
    "                   \"!V:NTrees=200:MinNodeSize=2.5%:MaxDepth=2:BoostType=AdaBoost:AdaBoostBeta=0.5:UseBaggedBoost:\"\n",
    "                   \"BaggedSampleFraction=0.5:SeparationType=GiniIndex:nCuts=20:SkipNormalization=True\" )#SkipNormalization=True\n",
    "\n",
    "## Multi-Layer Perceptron (Neural Network)\n",
    "#factory.BookMethod(loader, ROOT.TMVA.Types.kMLP, \"MLP\",\n",
    "#                   \"!H:!V:NeuronType=tanh:VarTransform=N:NCycles=100:HiddenLayers=N+5:TestRate=5:!UseRegulator\" );"
   ]
  },
  {
   "cell_type": "markdown",
   "metadata": {},
   "source": [
    "## Using scikit-learn\n",
    "\n",
    "here we book some scikit learn packages"
   ]
  },
  {
   "cell_type": "code",
   "execution_count": 10,
   "metadata": {},
   "outputs": [
    {
     "data": {
      "text/plain": [
       "<ROOT.TMVA::MethodPyAdaBoost object (\"PyAdaBoost\") at 0x1ae97d20>"
      ]
     },
     "execution_count": 10,
     "metadata": {},
     "output_type": "execute_result"
    },
    {
     "name": "stdout",
     "output_type": "stream",
     "text": [
      "Factory                  : Booking method: \u001b[1mPyGTB\u001b[0m\n",
      "                         : \n",
      "PyGTB                    : [dataset] : Create Transformation \"G\" with events from all classes.\n",
      "                         : \n",
      "                         : Transformation, Variable selection : \n",
      "                         : Input : variable 'CvsL1' <---> Output : variable 'CvsL1'\n",
      "                         : Input : variable 'CvsB1' <---> Output : variable 'CvsB1'\n",
      "                         : Input : variable 'CvsL2' <---> Output : variable 'CvsL2'\n",
      "                         : Input : variable 'CvsB2' <---> Output : variable 'CvsB2'\n",
      "                         : Input : variable 'CvsL3' <---> Output : variable 'CvsL3'\n",
      "                         : Input : variable 'CvsB3' <---> Output : variable 'CvsB3'\n",
      "                         : Input : variable 't_m_lep_jet1' <---> Output : variable 't_m_lep_jet1'\n",
      "                         : Input : variable 't_dphi_ll' <---> Output : variable 't_dphi_ll'\n",
      "                         : Input : variable 't_pt_l1' <---> Output : variable 't_pt_l1'\n",
      "                         : Input : variable 't_pt_l2' <---> Output : variable 't_pt_l2'\n",
      "                         : Input : variable 't_eta_l1' <---> Output : variable 't_eta_l1'\n",
      "                         : Input : variable 't_eta_l2' <---> Output : variable 't_eta_l2'\n",
      "                         : Input : variable 't_phi_l1' <---> Output : variable 't_phi_l1'\n",
      "                         : Input : variable 't_phi_l2' <---> Output : variable 't_phi_l2'\n",
      "                         : Input : variable 't_pt_j1' <---> Output : variable 't_pt_j1'\n",
      "                         : Input : variable 't_pt_j2' <---> Output : variable 't_pt_j2'\n",
      "                         : Input : variable 't_pt_j3' <---> Output : variable 't_pt_j3'\n",
      "                         : Input : variable 't_eta_j1' <---> Output : variable 't_eta_j1'\n",
      "                         : Input : variable 't_eta_j2' <---> Output : variable 't_eta_j2'\n",
      "                         : Input : variable 't_eta_j3' <---> Output : variable 't_eta_j3'\n",
      "                         : Input : variable 't_phi_j1' <---> Output : variable 't_phi_j1'\n",
      "                         : Input : variable 't_phi_j2' <---> Output : variable 't_phi_j2'\n",
      "                         : Input : variable 't_phi_j3' <---> Output : variable 't_phi_j3'\n",
      "                         : Input : variable 't_HT' <---> Output : variable 't_HT'\n",
      "Factory                  : Booking method: \u001b[1mPyRandomForest\u001b[0m\n",
      "                         : \n",
      "PyRandomForest           : [dataset] : Create Transformation \"G\" with events from all classes.\n",
      "                         : \n",
      "                         : Transformation, Variable selection : \n",
      "                         : Input : variable 'CvsL1' <---> Output : variable 'CvsL1'\n",
      "                         : Input : variable 'CvsB1' <---> Output : variable 'CvsB1'\n",
      "                         : Input : variable 'CvsL2' <---> Output : variable 'CvsL2'\n",
      "                         : Input : variable 'CvsB2' <---> Output : variable 'CvsB2'\n",
      "                         : Input : variable 'CvsL3' <---> Output : variable 'CvsL3'\n",
      "                         : Input : variable 'CvsB3' <---> Output : variable 'CvsB3'\n",
      "                         : Input : variable 't_m_lep_jet1' <---> Output : variable 't_m_lep_jet1'\n",
      "                         : Input : variable 't_dphi_ll' <---> Output : variable 't_dphi_ll'\n",
      "                         : Input : variable 't_pt_l1' <---> Output : variable 't_pt_l1'\n",
      "                         : Input : variable 't_pt_l2' <---> Output : variable 't_pt_l2'\n",
      "                         : Input : variable 't_eta_l1' <---> Output : variable 't_eta_l1'\n",
      "                         : Input : variable 't_eta_l2' <---> Output : variable 't_eta_l2'\n",
      "                         : Input : variable 't_phi_l1' <---> Output : variable 't_phi_l1'\n",
      "                         : Input : variable 't_phi_l2' <---> Output : variable 't_phi_l2'\n",
      "                         : Input : variable 't_pt_j1' <---> Output : variable 't_pt_j1'\n",
      "                         : Input : variable 't_pt_j2' <---> Output : variable 't_pt_j2'\n",
      "                         : Input : variable 't_pt_j3' <---> Output : variable 't_pt_j3'\n",
      "                         : Input : variable 't_eta_j1' <---> Output : variable 't_eta_j1'\n",
      "                         : Input : variable 't_eta_j2' <---> Output : variable 't_eta_j2'\n",
      "                         : Input : variable 't_eta_j3' <---> Output : variable 't_eta_j3'\n",
      "                         : Input : variable 't_phi_j1' <---> Output : variable 't_phi_j1'\n",
      "                         : Input : variable 't_phi_j2' <---> Output : variable 't_phi_j2'\n",
      "                         : Input : variable 't_phi_j3' <---> Output : variable 't_phi_j3'\n",
      "                         : Input : variable 't_HT' <---> Output : variable 't_HT'\n",
      "Factory                  : Booking method: \u001b[1mPyAdaBoost\u001b[0m\n",
      "                         : \n",
      "PyAdaBoost               : [dataset] : Create Transformation \"G\" with events from all classes.\n",
      "                         : \n",
      "                         : Transformation, Variable selection : \n",
      "                         : Input : variable 'CvsL1' <---> Output : variable 'CvsL1'\n",
      "                         : Input : variable 'CvsB1' <---> Output : variable 'CvsB1'\n",
      "                         : Input : variable 'CvsL2' <---> Output : variable 'CvsL2'\n",
      "                         : Input : variable 'CvsB2' <---> Output : variable 'CvsB2'\n",
      "                         : Input : variable 'CvsL3' <---> Output : variable 'CvsL3'\n",
      "                         : Input : variable 'CvsB3' <---> Output : variable 'CvsB3'\n",
      "                         : Input : variable 't_m_lep_jet1' <---> Output : variable 't_m_lep_jet1'\n",
      "                         : Input : variable 't_dphi_ll' <---> Output : variable 't_dphi_ll'\n",
      "                         : Input : variable 't_pt_l1' <---> Output : variable 't_pt_l1'\n",
      "                         : Input : variable 't_pt_l2' <---> Output : variable 't_pt_l2'\n",
      "                         : Input : variable 't_eta_l1' <---> Output : variable 't_eta_l1'\n",
      "                         : Input : variable 't_eta_l2' <---> Output : variable 't_eta_l2'\n",
      "                         : Input : variable 't_phi_l1' <---> Output : variable 't_phi_l1'\n",
      "                         : Input : variable 't_phi_l2' <---> Output : variable 't_phi_l2'\n",
      "                         : Input : variable 't_pt_j1' <---> Output : variable 't_pt_j1'\n",
      "                         : Input : variable 't_pt_j2' <---> Output : variable 't_pt_j2'\n",
      "                         : Input : variable 't_pt_j3' <---> Output : variable 't_pt_j3'\n",
      "                         : Input : variable 't_eta_j1' <---> Output : variable 't_eta_j1'\n",
      "                         : Input : variable 't_eta_j2' <---> Output : variable 't_eta_j2'\n",
      "                         : Input : variable 't_eta_j3' <---> Output : variable 't_eta_j3'\n",
      "                         : Input : variable 't_phi_j1' <---> Output : variable 't_phi_j1'\n",
      "                         : Input : variable 't_phi_j2' <---> Output : variable 't_phi_j2'\n",
      "                         : Input : variable 't_phi_j3' <---> Output : variable 't_phi_j3'\n",
      "                         : Input : variable 't_HT' <---> Output : variable 't_HT'\n"
     ]
    }
   ],
   "source": [
    "# GTB = gradient tree boosing\n",
    "factory.BookMethod(loader, ROOT.TMVA.Types.kPyGTB, \"PyGTB\",\"H:!V:VarTransform=G:NEstimators=400:LearningRate=0.1:\"\n",
    "                                                  \"MaxDepth=3\")\n",
    "\n",
    "# random forest\n",
    "factory.BookMethod(loader, ROOT.TMVA.Types.kPyRandomForest, \"PyRandomForest\",\"!V:VarTransform=G:NEstimators=400:\"\n",
    "                           \"Criterion=gini:MaxFeatures=auto:MaxDepth=6:MinSamplesLeaf=3:MinWeightFractionLeaf=0:\"\n",
    "                            \"Bootstrap=kTRUE\" )\n",
    "\n",
    "# AdaBoost\n",
    "factory.BookMethod(loader, ROOT.TMVA.Types.kPyAdaBoost, \"PyAdaBoost\",\"!V:VarTransform=G:NEstimators=400\" )"
   ]
  },
  {
   "cell_type": "markdown",
   "metadata": {},
   "source": [
    "### Booking Deep Neural Network\n",
    "\n",
    "Book the new DNN of TMVA. We use the new DL method available in TMVA"
   ]
  },
  {
   "cell_type": "markdown",
   "metadata": {},
   "source": [
    "#### 1. Define DNN layout\n",
    "\n",
    "we need to define (note the use of the character | as  separator of  input parameters) \n",
    "\n",
    "- input layout :   this defines the input data format for the DNN as  input depth | height | width. \n",
    "   In case of a dense layer as first layer the input layout should be  1 | 1 | number of input variables (features)\n",
    "- batch layout  : this defines how are the input batch. It is related to input layout but not the same. \n",
    "   If the first layer is dense it should be 1 | batch size ! number of variables (fetures)\n",
    "                 \n",
    "- layout string defining the architecture. The syntax is  \n",
    "   - layer type (e.g. DENSE, CONV, RNN)\n",
    "   - layer parameters (e.g. number of units)\n",
    "   - activation function (e.g  TANH, RELU,...)\n",
    "   \n",
    "     the different layers are separated by the \",\" \n",
    "                "
   ]
  },
  {
   "cell_type": "code",
   "execution_count": 13,
   "metadata": {},
   "outputs": [],
   "source": [
    "inputLayoutString = \"InputLayout=1|1|24\"; \n",
    "batchLayoutString= \"BatchLayout=1|32|24\";#1|32|7\n",
    "layoutString = (\"Layout=DENSE|64|TANH,DENSE|64|TANH,DENSE|64|TANH,DENSE|64|TANH,DENSE|1|LINEAR\")                                                                                                                                                          "
   ]
  },
  {
   "cell_type": "markdown",
   "metadata": {},
   "source": [
    "#### 2. Define Trainining Strategy\n",
    "\n",
    "We define here the different training strategy for the DNN. One can concatenate different training strategy changing parameters like: \n",
    " - Optimizer\n",
    " - Learning rate\n",
    " - Momentum (valid for SGD and RMSPROP)\n",
    " - Regularization and Weight Decay \n",
    " - Dropout \n",
    " - Max number of epochs \n",
    " - Convergence steps. if the test error will not decrease after that value the training will stop\n",
    " - Batch size (This value must be the same specified in the input layout)\n",
    " - Test Repetitions (the interval when the test error will be computed) \n",
    "\n"
   ]
  },
  {
   "cell_type": "code",
   "execution_count": 14,
   "metadata": {},
   "outputs": [],
   "source": [
    "##Training strategies \n",
    "## one can catenate several training strategies\n",
    "\n",
    "training1  = \"Optimizer=ADAM,LearningRate=1e-3,Momentum=0.,Regularization=None,WeightDecay=1e-4,\"\n",
    "training1 += \"DropConfig=0.+0.+0.+0.,MaxEpochs=30,ConvergenceSteps=10,BatchSize=32,TestRepetitions=1\"\n",
    " \n",
    "# we add regularization in the second phase\n",
    "training2  = \"Optimizer=ADAM,LearningRate=1e-3,Momentum=0.,Regularization=L2,WeightDecay=1e-4,\"\n",
    "training2 += \"DropConfig=0.0+0.0+0.0+0,MaxEpochs=20,ConvergenceSteps=10,BatchSize=1000,TestRepetitions=1\"\n",
    "     \n",
    "            \n",
    "\n",
    "trainingStrategyString = \"TrainingStrategy=\" + training1 + training2\n"
   ]
  },
  {
   "cell_type": "markdown",
   "metadata": {},
   "source": [
    "#### 3. Define general options and book method\n",
    "\n",
    "We define the general DNN options such as \n",
    "\n",
    "- Type of Loss function (e.g. cross entropy)\n",
    "- Weight Initizalization (e.g XAVIER, XAVIERUNIFORM, NORMAL )\n",
    "- Variable Transformation\n",
    "- Type of Architecture (e.g. CPU, GPU, Standard)\n",
    "\n",
    "We add then also all the other options defined before "
   ]
  },
  {
   "cell_type": "code",
   "execution_count": 15,
   "metadata": {},
   "outputs": [],
   "source": [
    "## General Options.                                                                                                                                                                \n",
    "dnnOptions = \"!H:V:ErrorStrategy=CROSSENTROPY:VarTransform=G:WeightInitialization=XAVIER::Architecture=CPU\"\n",
    "\n",
    "dnnOptions +=  \":\" + inputLayoutString\n",
    "dnnOptions +=  \":\" + batchLayoutString\n",
    "dnnOptions +=  \":\" + layoutString\n",
    "dnnOptions +=  \":\" + trainingStrategyString"
   ]
  },
  {
   "cell_type": "code",
   "execution_count": 11,
   "metadata": {},
   "outputs": [
    {
     "data": {
      "text/plain": [
       "<ROOT.TMVA::MethodDL object (\"DL_CPU\") at 0x19d6fc70>"
      ]
     },
     "execution_count": 11,
     "metadata": {},
     "output_type": "execute_result"
    },
    {
     "name": "stdout",
     "output_type": "stream",
     "text": [
      "Factory                  : Booking method: \u001b[1mDL_CPU\u001b[0m\n",
      "                         : \n",
      "                         : Parsing option string: \n",
      "                         : ... \"!H:V:ErrorStrategy=CROSSENTROPY:VarTransform=G:WeightInitialization=XAVIER::Architecture=CPU:InputLayout=1|1|24:BatchLayout=1|32|24:Layout=DENSE|64|TANH,DENSE|64|TANH,DENSE|64|TANH,DENSE|64|TANH,DENSE|1|LINEAR:TrainingStrategy=Optimizer=ADAM,LearningRate=1e-3,Momentum=0.,Regularization=None,WeightDecay=1e-4,DropConfig=0.+0.+0.+0.,MaxEpochs=30,ConvergenceSteps=10,BatchSize=32,TestRepetitions=1Optimizer=ADAM,LearningRate=1e-3,Momentum=0.,Regularization=L2,WeightDecay=1e-4,DropConfig=0.0+0.0+0.0+0,MaxEpochs=20,ConvergenceSteps=10,BatchSize=1000,TestRepetitions=1\"\n",
      "                         : The following options are set:\n",
      "                         : - By User:\n",
      "                         :     <none>\n",
      "                         : - Default:\n",
      "                         :     Boost_num: \"0\" [Number of times the classifier will be boosted]\n",
      "                         : Parsing option string: \n",
      "                         : ... \"!H:V:ErrorStrategy=CROSSENTROPY:VarTransform=G:WeightInitialization=XAVIER::Architecture=CPU:InputLayout=1|1|24:BatchLayout=1|32|24:Layout=DENSE|64|TANH,DENSE|64|TANH,DENSE|64|TANH,DENSE|64|TANH,DENSE|1|LINEAR:TrainingStrategy=Optimizer=ADAM,LearningRate=1e-3,Momentum=0.,Regularization=None,WeightDecay=1e-4,DropConfig=0.+0.+0.+0.,MaxEpochs=30,ConvergenceSteps=10,BatchSize=32,TestRepetitions=1Optimizer=ADAM,LearningRate=1e-3,Momentum=0.,Regularization=L2,WeightDecay=1e-4,DropConfig=0.0+0.0+0.0+0,MaxEpochs=20,ConvergenceSteps=10,BatchSize=1000,TestRepetitions=1\"\n",
      "                         : The following options are set:\n",
      "                         : - By User:\n",
      "                         :     V: \"True\" [Verbose output (short form of \"VerbosityLevel\" below - overrides the latter one)]\n",
      "                         :     VarTransform: \"G\" [List of variable transformations performed before training, e.g., \"D_Background,P_Signal,G,N_AllClasses\" for: \"Decorrelation, PCA-transformation, Gaussianisation, Normalisation, each for the given class of events ('AllClasses' denotes all events of all classes, if no class indication is given, 'All' is assumed)\"]\n",
      "                         :     H: \"False\" [Print method-specific help message]\n",
      "                         :     InputLayout: \"1|1|24\" [The Layout of the input]\n",
      "                         :     BatchLayout: \"1|32|24\" [The Layout of the batch]\n",
      "                         :     Layout: \"DENSE|64|TANH,DENSE|64|TANH,DENSE|64|TANH,DENSE|64|TANH,DENSE|1|LINEAR\" [Layout of the network.]\n",
      "                         :     ErrorStrategy: \"CROSSENTROPY\" [Loss function: Mean squared error (regression) or cross entropy (binary classification).]\n",
      "                         :     WeightInitialization: \"XAVIER\" [Weight initialization strategy]\n",
      "                         :     Architecture: \"CPU\" [Which architecture to perform the training on.]\n",
      "                         :     TrainingStrategy: \"Optimizer=ADAM,LearningRate=1e-3,Momentum=0.,Regularization=None,WeightDecay=1e-4,DropConfig=0.+0.+0.+0.,MaxEpochs=30,ConvergenceSteps=10,BatchSize=32,TestRepetitions=1Optimizer=ADAM,LearningRate=1e-3,Momentum=0.,Regularization=L2,WeightDecay=1e-4,DropConfig=0.0+0.0+0.0+0,MaxEpochs=20,ConvergenceSteps=10,BatchSize=1000,TestRepetitions=1\" [Defines the training strategies.]\n",
      "                         : - Default:\n",
      "                         :     VerbosityLevel: \"Default\" [Verbosity level]\n",
      "                         :     CreateMVAPdfs: \"False\" [Create PDFs for classifier outputs (signal and background)]\n",
      "                         :     IgnoreNegWeightsInTraining: \"False\" [Events with negative weights are ignored in the training (but are included for testing and performance evaluation)]\n",
      "                         :     RandomSeed: \"0\" [Random seed used for weight initialization and batch shuffling]\n",
      "                         :     ValidationSize: \"20%\" [Part of the training data to use for validation. Specify as 0.2 or 20% to use a fifth of the data set as validation set. Specify as 100 to use exactly 100 events. (Default: 20%)]\n",
      "DL_CPU                   : [dataset] : Create Transformation \"G\" with events from all classes.\n",
      "                         : \n",
      "                         : Transformation, Variable selection : \n",
      "                         : Input : variable 'CvsL1' <---> Output : variable 'CvsL1'\n",
      "                         : Input : variable 'CvsB1' <---> Output : variable 'CvsB1'\n",
      "                         : Input : variable 'CvsL2' <---> Output : variable 'CvsL2'\n",
      "                         : Input : variable 'CvsB2' <---> Output : variable 'CvsB2'\n",
      "                         : Input : variable 'CvsL3' <---> Output : variable 'CvsL3'\n",
      "                         : Input : variable 'CvsB3' <---> Output : variable 'CvsB3'\n",
      "                         : Input : variable 't_m_lep_jet1' <---> Output : variable 't_m_lep_jet1'\n",
      "                         : Input : variable 't_dphi_ll' <---> Output : variable 't_dphi_ll'\n",
      "                         : Input : variable 't_pt_l1' <---> Output : variable 't_pt_l1'\n",
      "                         : Input : variable 't_pt_l2' <---> Output : variable 't_pt_l2'\n",
      "                         : Input : variable 't_eta_l1' <---> Output : variable 't_eta_l1'\n",
      "                         : Input : variable 't_eta_l2' <---> Output : variable 't_eta_l2'\n",
      "                         : Input : variable 't_phi_l1' <---> Output : variable 't_phi_l1'\n",
      "                         : Input : variable 't_phi_l2' <---> Output : variable 't_phi_l2'\n",
      "                         : Input : variable 't_pt_j1' <---> Output : variable 't_pt_j1'\n",
      "                         : Input : variable 't_pt_j2' <---> Output : variable 't_pt_j2'\n",
      "                         : Input : variable 't_pt_j3' <---> Output : variable 't_pt_j3'\n",
      "                         : Input : variable 't_eta_j1' <---> Output : variable 't_eta_j1'\n",
      "                         : Input : variable 't_eta_j2' <---> Output : variable 't_eta_j2'\n",
      "                         : Input : variable 't_eta_j3' <---> Output : variable 't_eta_j3'\n",
      "                         : Input : variable 't_phi_j1' <---> Output : variable 't_phi_j1'\n",
      "                         : Input : variable 't_phi_j2' <---> Output : variable 't_phi_j2'\n",
      "                         : Input : variable 't_phi_j3' <---> Output : variable 't_phi_j3'\n",
      "                         : Input : variable 't_HT' <---> Output : variable 't_HT'\n",
      "                         : Will now use the CPU architecture !\n"
     ]
    }
   ],
   "source": [
    "#we can now book the method\n",
    "              \n",
    "factory.BookMethod(loader, ROOT.TMVA.Types.kDL, \"DL_CPU\", dnnOptions)"
   ]
  },
  {
   "cell_type": "code",
   "execution_count": 12,
   "metadata": {},
   "outputs": [],
   "source": [
    "## to use tensorflow backend\n",
    "import os\n",
    "os.environ[\"KERAS_BACKEND\"] = \"tensorflow\""
   ]
  },
  {
   "cell_type": "code",
   "execution_count": 13,
   "metadata": {},
   "outputs": [
    {
     "name": "stderr",
     "output_type": "stream",
     "text": [
      "Using TensorFlow backend.\n"
     ]
    }
   ],
   "source": [
    "from keras.models import Sequential\n",
    "from keras.optimizers import Adam, SGD\n",
    "#from keras.initializers import TruncatedNormal\n",
    "#from keras import initializations\n",
    "from keras.layers import Input, Dense, Dropout, Flatten, Conv2D, MaxPooling2D, Reshape\n",
    "#from keras.callbacks import ReduceLROnPlateau"
   ]
  },
  {
   "cell_type": "code",
   "execution_count": 14,
   "metadata": {},
   "outputs": [
    {
     "name": "stderr",
     "output_type": "stream",
     "text": [
      "WARNING: Logging before flag parsing goes to stderr.\n",
      "W1111 19:46:52.466939 139883788674880 deprecation_wrapper.py:119] From /cvmfs/sft.cern.ch/lcg/views/LCG_97apython3/x86_64-centos7-gcc8-opt/lib/python3.7/site-packages/keras/backend/tensorflow_backend.py:74: The name tf.get_default_graph is deprecated. Please use tf.compat.v1.get_default_graph instead.\n",
      "\n",
      "W1111 19:46:52.491602 139883788674880 deprecation_wrapper.py:119] From /cvmfs/sft.cern.ch/lcg/views/LCG_97apython3/x86_64-centos7-gcc8-opt/lib/python3.7/site-packages/keras/backend/tensorflow_backend.py:517: The name tf.placeholder is deprecated. Please use tf.compat.v1.placeholder instead.\n",
      "\n",
      "W1111 19:46:52.495976 139883788674880 deprecation_wrapper.py:119] From /cvmfs/sft.cern.ch/lcg/views/LCG_97apython3/x86_64-centos7-gcc8-opt/lib/python3.7/site-packages/keras/backend/tensorflow_backend.py:4185: The name tf.truncated_normal is deprecated. Please use tf.random.truncated_normal instead.\n",
      "\n",
      "W1111 19:46:52.563883 139883788674880 deprecation_wrapper.py:119] From /cvmfs/sft.cern.ch/lcg/views/LCG_97apython3/x86_64-centos7-gcc8-opt/lib/python3.7/site-packages/keras/backend/tensorflow_backend.py:4138: The name tf.random_uniform is deprecated. Please use tf.random.uniform instead.\n",
      "\n",
      "W1111 19:46:52.616277 139883788674880 deprecation_wrapper.py:119] From /cvmfs/sft.cern.ch/lcg/views/LCG_97apython3/x86_64-centos7-gcc8-opt/lib/python3.7/site-packages/keras/optimizers.py:790: The name tf.train.Optimizer is deprecated. Please use tf.compat.v1.train.Optimizer instead.\n",
      "\n",
      "W1111 19:46:52.630568 139883788674880 deprecation_wrapper.py:119] From /cvmfs/sft.cern.ch/lcg/views/LCG_97apython3/x86_64-centos7-gcc8-opt/lib/python3.7/site-packages/keras/backend/tensorflow_backend.py:3295: The name tf.log is deprecated. Please use tf.math.log instead.\n",
      "\n"
     ]
    },
    {
     "name": "stdout",
     "output_type": "stream",
     "text": [
      "_________________________________________________________________\n",
      "Layer (type)                 Output Shape              Param #   \n",
      "=================================================================\n",
      "dense_1 (Dense)              (None, 64)                1600      \n",
      "_________________________________________________________________\n",
      "dense_2 (Dense)              (None, 64)                4160      \n",
      "_________________________________________________________________\n",
      "dense_3 (Dense)              (None, 64)                4160      \n",
      "_________________________________________________________________\n",
      "dense_4 (Dense)              (None, 2)                 130       \n",
      "=================================================================\n",
      "Total params: 10,050\n",
      "Trainable params: 10,050\n",
      "Non-trainable params: 0\n",
      "_________________________________________________________________\n"
     ]
    },
    {
     "name": "stderr",
     "output_type": "stream",
     "text": [
      "2020-11-11 19:46:52.787217: I tensorflow/core/platform/cpu_feature_guard.cc:142] Your CPU supports instructions that this TensorFlow binary was not compiled to use: SSE4.1 SSE4.2 AVX AVX2 FMA\n",
      "2020-11-11 19:46:52.804086: I tensorflow/core/platform/profile_utils/cpu_utils.cc:94] CPU Frequency: 2400135000 Hz\n",
      "2020-11-11 19:46:52.807112: I tensorflow/compiler/xla/service/service.cc:168] XLA service 0x1cace6f0 executing computations on platform Host. Devices:\n",
      "2020-11-11 19:46:52.807162: I tensorflow/compiler/xla/service/service.cc:175]   StreamExecutor device (0): <undefined>, <undefined>\n",
      "2020-11-11 19:46:52.904824: W tensorflow/compiler/jit/mark_for_compilation_pass.cc:1412] (One-time warning): Not using XLA:CPU for cluster because envvar TF_XLA_FLAGS=--tf_xla_cpu_global_jit was not set.  If you want XLA:CPU, either set that envvar, or use experimental_jit_scope to enable XLA:CPU.  To confirm that XLA is active, pass --vmodule=xla_compilation_cache=1 (as a proper command-line flag, not via TF_XLA_FLAGS) or set the envvar XLA_FLAGS=--xla_hlo_profile.\n"
     ]
    }
   ],
   "source": [
    "# Define model\n",
    "model = Sequential()\n",
    "model.add(Dense(64, kernel_initializer='glorot_normal', activation='tanh', input_dim=24))\n",
    "####model.add(Dropout(0.2))\n",
    "model.add(Dense(64, kernel_initializer='glorot_normal', activation='tanh'))\n",
    "####model.add(Dropout(0.2))\n",
    "model.add(Dense(64, kernel_initializer='glorot_normal', activation='tanh'))\n",
    "model.add(Dense(2, kernel_initializer='glorot_uniform', activation='softmax'))\n",
    "\n",
    "\n",
    "\n",
    "# Set loss and optimizer\n",
    "model.compile(loss='categorical_crossentropy', optimizer=Adam(), metrics=['categorical_accuracy',])\n",
    "\n",
    "# Store model to file\n",
    "model.save('model_dense.h5')\n",
    "\n",
    "# Print summary of model\n",
    "model.summary()"
   ]
  },
  {
   "cell_type": "code",
   "execution_count": 15,
   "metadata": {},
   "outputs": [
    {
     "data": {
      "text/plain": [
       "<ROOT.TMVA::MethodPyKeras object (\"Keras_Dense\") at 0x1cc4eb20>"
      ]
     },
     "execution_count": 15,
     "metadata": {},
     "output_type": "execute_result"
    },
    {
     "name": "stdout",
     "output_type": "stream",
     "text": [
      "Factory                  : Booking method: \u001b[1mKeras_Dense\u001b[0m\n",
      "                         : \n",
      "Keras_Dense              : [dataset] : Create Transformation \"G\" with events from all classes.\n",
      "                         : \n",
      "                         : Transformation, Variable selection : \n",
      "                         : Input : variable 'CvsL1' <---> Output : variable 'CvsL1'\n",
      "                         : Input : variable 'CvsB1' <---> Output : variable 'CvsB1'\n",
      "                         : Input : variable 'CvsL2' <---> Output : variable 'CvsL2'\n",
      "                         : Input : variable 'CvsB2' <---> Output : variable 'CvsB2'\n",
      "                         : Input : variable 'CvsL3' <---> Output : variable 'CvsL3'\n",
      "                         : Input : variable 'CvsB3' <---> Output : variable 'CvsB3'\n",
      "                         : Input : variable 't_m_lep_jet1' <---> Output : variable 't_m_lep_jet1'\n",
      "                         : Input : variable 't_dphi_ll' <---> Output : variable 't_dphi_ll'\n",
      "                         : Input : variable 't_pt_l1' <---> Output : variable 't_pt_l1'\n",
      "                         : Input : variable 't_pt_l2' <---> Output : variable 't_pt_l2'\n",
      "                         : Input : variable 't_eta_l1' <---> Output : variable 't_eta_l1'\n",
      "                         : Input : variable 't_eta_l2' <---> Output : variable 't_eta_l2'\n",
      "                         : Input : variable 't_phi_l1' <---> Output : variable 't_phi_l1'\n",
      "                         : Input : variable 't_phi_l2' <---> Output : variable 't_phi_l2'\n",
      "                         : Input : variable 't_pt_j1' <---> Output : variable 't_pt_j1'\n",
      "                         : Input : variable 't_pt_j2' <---> Output : variable 't_pt_j2'\n",
      "                         : Input : variable 't_pt_j3' <---> Output : variable 't_pt_j3'\n",
      "                         : Input : variable 't_eta_j1' <---> Output : variable 't_eta_j1'\n",
      "                         : Input : variable 't_eta_j2' <---> Output : variable 't_eta_j2'\n",
      "                         : Input : variable 't_eta_j3' <---> Output : variable 't_eta_j3'\n",
      "                         : Input : variable 't_phi_j1' <---> Output : variable 't_phi_j1'\n",
      "                         : Input : variable 't_phi_j2' <---> Output : variable 't_phi_j2'\n",
      "                         : Input : variable 't_phi_j3' <---> Output : variable 't_phi_j3'\n",
      "                         : Input : variable 't_HT' <---> Output : variable 't_HT'\n",
      "                         : Using TensorFlow backend - setting special configuration options \n",
      "                         : Using Tensorflow version 1\n",
      "                         : Load model from file: model_dense.h5\n"
     ]
    }
   ],
   "source": [
    "factory.BookMethod(loader, ROOT.TMVA.Types.kPyKeras, 'Keras_Dense',\n",
    "        'H:!V:VarTransform=G:FilenameModel=model_dense.h5:'+\\\n",
    "        'NumEpochs=20:BatchSize=32:TriesEarlyStopping=30')"
   ]
  },
  {
   "cell_type": "markdown",
   "metadata": {},
   "source": [
    "## Train Methods"
   ]
  },
  {
   "cell_type": "code",
   "execution_count": 7,
   "metadata": {},
   "outputs": [
    {
     "name": "stdout",
     "output_type": "stream",
     "text": [
      "Factory                  : \u001b[1mTrain all methods\u001b[0m\n",
      "Factory                  : [dataset] : Create Transformation \"I\" with events from all classes.\n",
      "                         : \n",
      "                         : Transformation, Variable selection : \n",
      "                         : Input : variable 'CvsL1' <---> Output : variable 'CvsL1'\n",
      "                         : Input : variable 'CvsB1' <---> Output : variable 'CvsB1'\n",
      "                         : Input : variable 'CvsL2' <---> Output : variable 'CvsL2'\n",
      "                         : Input : variable 'CvsB2' <---> Output : variable 'CvsB2'\n",
      "                         : Input : variable 'CvsL3' <---> Output : variable 'CvsL3'\n",
      "                         : Input : variable 'CvsB3' <---> Output : variable 'CvsB3'\n",
      "                         : Input : variable 't_m_lep_jet1' <---> Output : variable 't_m_lep_jet1'\n",
      "                         : Input : variable 't_dphi_ll' <---> Output : variable 't_dphi_ll'\n",
      "                         : Input : variable 't_pt_l1' <---> Output : variable 't_pt_l1'\n",
      "                         : Input : variable 't_pt_l2' <---> Output : variable 't_pt_l2'\n",
      "                         : Input : variable 't_eta_l1' <---> Output : variable 't_eta_l1'\n",
      "                         : Input : variable 't_eta_l2' <---> Output : variable 't_eta_l2'\n",
      "                         : Input : variable 't_phi_l1' <---> Output : variable 't_phi_l1'\n",
      "                         : Input : variable 't_phi_l2' <---> Output : variable 't_phi_l2'\n",
      "                         : Input : variable 't_pt_j1' <---> Output : variable 't_pt_j1'\n",
      "                         : Input : variable 't_pt_j2' <---> Output : variable 't_pt_j2'\n",
      "                         : Input : variable 't_pt_j3' <---> Output : variable 't_pt_j3'\n",
      "                         : Input : variable 't_eta_j1' <---> Output : variable 't_eta_j1'\n",
      "                         : Input : variable 't_eta_j2' <---> Output : variable 't_eta_j2'\n",
      "                         : Input : variable 't_eta_j3' <---> Output : variable 't_eta_j3'\n",
      "                         : Input : variable 't_phi_j1' <---> Output : variable 't_phi_j1'\n",
      "                         : Input : variable 't_phi_j2' <---> Output : variable 't_phi_j2'\n",
      "                         : Input : variable 't_phi_j3' <---> Output : variable 't_phi_j3'\n",
      "                         : Input : variable 't_HT' <---> Output : variable 't_HT'\n",
      "TFHandler_Factory        :     Variable            Mean            RMS    [        Min            Max ]\n",
      "                         : -------------------------------------------------------------------------------\n",
      "                         :        CvsL1:       0.60079       0.33960   [      0.013055       0.99875 ]\n",
      "                         :        CvsB1:       0.40676       0.31015   [    4.3213e-06       0.96721 ]\n",
      "                         :        CvsL2:       0.67258       0.32447   [      0.016875       0.99878 ]\n",
      "                         :        CvsB2:       0.30664       0.30680   [    4.3320e-06       0.95243 ]\n",
      "                         :        CvsL3:       0.63529       0.33932   [      0.034413       0.99902 ]\n",
      "                         :        CvsB3:       0.32738       0.31158   [    3.4308e-06       0.95378 ]\n",
      "                         : t_m_lep_jet1:        211.52        123.81   [        19.605        2429.4 ]\n",
      "                         :    t_dphi_ll:     0.0019149        2.0587   [       -3.1416        3.1416 ]\n",
      "                         :      t_pt_l1:        79.883        41.089   [        30.001        1224.6 ]\n",
      "                         :      t_pt_l2:        43.073        20.761   [        20.000        526.09 ]\n",
      "                         :     t_eta_l1:    -0.0057789        1.0358   [       -2.3999        2.3999 ]\n",
      "                         :     t_eta_l2:    -0.0074173        1.0848   [       -2.4000        2.3999 ]\n",
      "                         :     t_phi_l1:     -0.012281        1.8113   [       -3.1416        3.1416 ]\n",
      "                         :     t_phi_l2:     -0.016669        1.8071   [       -3.1416        3.1416 ]\n",
      "                         :      t_pt_j1:        151.41        78.011   [        20.282        1664.9 ]\n",
      "                         :      t_pt_j2:        93.872        47.214   [        20.004        998.65 ]\n",
      "                         :      t_pt_j3:        57.947        29.155   [        20.000        490.46 ]\n",
      "                         :     t_eta_j1:    -0.0051391       0.99983   [       -2.4000        2.3999 ]\n",
      "                         :     t_eta_j2:    -0.0051426        1.0555   [       -2.4000        2.4000 ]\n",
      "                         :     t_eta_j3:    -0.0053436        1.1270   [       -2.4000        2.4000 ]\n",
      "                         :     t_phi_j1:     -0.024653        1.8020   [       -3.1416        3.1415 ]\n",
      "                         :     t_phi_j2:     -0.017346        1.8090   [       -3.1416        3.1416 ]\n",
      "                         :     t_phi_j3:    -0.0069398        1.8137   [       -3.1416        3.1416 ]\n",
      "                         :         t_HT:        340.59        148.92   [        0.0000        2982.3 ]\n",
      "                         : -------------------------------------------------------------------------------\n",
      "                         : \u001b[32m\n",
      "                         : <PlotVariables> Will not produce scatter plots ==> \n",
      "                         : |  The number of 24 input variables and 0 target values would require 276 two-dimensional\n",
      "                         : |  histograms, which would occupy the computer's memory. Note that this\n",
      "                         : |  suppression does not have any consequences for your analysis, other\n",
      "                         : |  than not disposing of these scatter plots. You can modify the maximum\n",
      "                         : |  number of input variables allowed to generate scatter plots in your\n",
      "                         : |  script via the command line:\n",
      "                         : |  \"(TMVA::gConfig().GetVariablePlotting()).fMaxNumOfAllowedVariablesForScatterPlots = <some int>;\"\u001b[0m\n",
      "                         : \n",
      "                         : Some more output\n",
      "                         : Ranking input variables (method unspecific)...\n",
      "IdTransformation         : Ranking result (top variable is best ranked)\n",
      "                         : -------------------------------------\n",
      "                         : Rank : Variable     : Separation\n",
      "                         : -------------------------------------\n",
      "                         :    1 : t_pt_l1      : 4.063e-02\n",
      "                         :    2 : t_HT         : 3.611e-02\n",
      "                         :    3 : CvsL3        : 3.449e-02\n",
      "                         :    4 : t_m_lep_jet1 : 2.883e-02\n",
      "                         :    5 : CvsB3        : 2.550e-02\n",
      "                         :    6 : CvsL2        : 2.293e-02\n",
      "                         :    7 : t_pt_j1      : 1.960e-02\n",
      "                         :    8 : CvsL1        : 1.528e-02\n",
      "                         :    9 : t_pt_l2      : 1.475e-02\n",
      "                         :   10 : CvsB1        : 1.222e-02\n",
      "                         :   11 : CvsB2        : 1.217e-02\n",
      "                         :   12 : t_pt_j2      : 1.198e-02\n",
      "                         :   13 : t_eta_j1     : 8.115e-03\n",
      "                         :   14 : t_pt_j3      : 7.912e-03\n",
      "                         :   15 : t_eta_l1     : 6.855e-03\n",
      "                         :   16 : t_dphi_ll    : 6.317e-03\n",
      "                         :   17 : t_eta_l2     : 5.872e-03\n",
      "                         :   18 : t_eta_j2     : 3.780e-03\n",
      "                         :   19 : t_eta_j3     : 2.488e-03\n",
      "                         :   20 : t_phi_j2     : 1.938e-03\n",
      "                         :   21 : t_phi_j1     : 1.612e-03\n",
      "                         :   22 : t_phi_l1     : 1.405e-03\n",
      "                         :   23 : t_phi_l2     : 1.367e-03\n",
      "                         :   24 : t_phi_j3     : 1.278e-03\n",
      "                         : -------------------------------------\n",
      "Factory                  : Train method: BDT for Classification\n",
      "                         : \n",
      "<WARNING>                : Events with negative event weights are USED during the BDT training. This might cause problems with small node sizes or with the boosting. Please remove negative events from training using the option *IgnoreEventsWithNegWeightsInTraining* in case you observe problems with the boosting\n",
      "                         : Events with weight == 0 are going to be simply ignored \n",
      "                         : Training 200 Decision Trees ... patience please\n",
      "                         : Elapsed time for training with 274298 events: 51.4 sec         \n",
      "BDT                      : [dataset] : Evaluation of BDT on training sample (274298 events)\n",
      "                         : Elapsed time for evaluation of 274298 events: 2.07 sec       \n",
      "                         : Creating xml weight file: \u001b[0;36mdataset/weights/TMVA_ClassificationOutput_BDT.weights.xml\u001b[0m\n",
      "                         : Creating standalone class: \u001b[0;36mdataset/weights/TMVA_ClassificationOutput_BDT.class.C\u001b[0m\n",
      "                         : /eos/user/e/efe/DataAnalysis/ntuples_and_plots/11nov/TMVA_ClassificationOutput.root:/dataset/Method_BDT/BDT\n",
      "Factory                  : Training finished\n",
      "                         : \n",
      "                         : Ranking input variables (method specific)...\n",
      "BDT                      : Ranking result (top variable is best ranked)\n",
      "                         : ----------------------------------------------\n",
      "                         : Rank : Variable     : Variable Importance\n",
      "                         : ----------------------------------------------\n",
      "                         :    1 : CvsB1        : 8.599e-02\n",
      "                         :    2 : t_eta_l1     : 7.954e-02\n",
      "                         :    3 : CvsL3        : 6.097e-02\n",
      "                         :    4 : t_phi_j3     : 5.549e-02\n",
      "                         :    5 : t_eta_l2     : 5.468e-02\n",
      "                         :    6 : CvsL1        : 5.450e-02\n",
      "                         :    7 : t_pt_j3      : 5.316e-02\n",
      "                         :    8 : t_pt_j2      : 5.067e-02\n",
      "                         :    9 : CvsB2        : 5.055e-02\n",
      "                         :   10 : t_phi_j2     : 5.030e-02\n",
      "                         :   11 : t_phi_j1     : 4.538e-02\n",
      "                         :   12 : t_pt_j1      : 4.145e-02\n",
      "                         :   13 : t_pt_l1      : 3.405e-02\n",
      "                         :   14 : CvsB3        : 3.236e-02\n",
      "                         :   15 : t_eta_j1     : 3.166e-02\n",
      "                         :   16 : t_pt_l2      : 2.982e-02\n",
      "                         :   17 : t_eta_j2     : 2.869e-02\n",
      "                         :   18 : t_phi_l1     : 2.839e-02\n",
      "                         :   19 : CvsL2        : 2.832e-02\n",
      "                         :   20 : t_dphi_ll    : 2.648e-02\n",
      "                         :   21 : t_phi_l2     : 2.558e-02\n",
      "                         :   22 : t_eta_j3     : 2.066e-02\n",
      "                         :   23 : t_HT         : 1.649e-02\n",
      "                         :   24 : t_m_lep_jet1 : 1.480e-02\n",
      "                         : ----------------------------------------------\n",
      "Factory                  : === Destroy and recreate all methods via weight files for testing ===\n",
      "                         : \n",
      "                         : Reading weight file: \u001b[0;36mdataset/weights/TMVA_ClassificationOutput_BDT.weights.xml\u001b[0m\n"
     ]
    }
   ],
   "source": [
    "factory.TrainAllMethods();"
   ]
  },
  {
   "cell_type": "markdown",
   "metadata": {},
   "source": [
    "## Test  all methods\n",
    "\n",
    "Here we test all methods using the test data set"
   ]
  },
  {
   "cell_type": "code",
   "execution_count": 8,
   "metadata": {},
   "outputs": [
    {
     "name": "stdout",
     "output_type": "stream",
     "text": [
      "Factory                  : \u001b[1mTest all methods\u001b[0m\n",
      "Factory                  : Test method: BDT for Classification performance\n",
      "                         : \n",
      "BDT                      : [dataset] : Evaluation of BDT on testing sample (274298 events)\n",
      "                         : Elapsed time for evaluation of 274298 events: 1.98 sec       \n"
     ]
    }
   ],
   "source": [
    "factory.TestAllMethods();   "
   ]
  },
  {
   "cell_type": "markdown",
   "metadata": {},
   "source": [
    "## Evaluate all methods\n",
    "\n",
    "Here we evaluate all methods and compare their performances, computing efficiencies, ROC curves etc.. using both training and tetsing data sets. Several histograms are produced which can be examined with the TMVAGui or directly using the output file"
   ]
  },
  {
   "cell_type": "code",
   "execution_count": 9,
   "metadata": {},
   "outputs": [
    {
     "name": "stdout",
     "output_type": "stream",
     "text": [
      "Factory                  : \u001b[1mEvaluate all methods\u001b[0m\n",
      "Factory                  : Evaluate classifier: BDT\n",
      "                         : \n",
      "BDT                      : [dataset] : Loop over test events and fill histograms with classifier response...\n",
      "                         : \n",
      "TFHandler_BDT            :     Variable            Mean            RMS    [        Min            Max ]\n",
      "                         : -------------------------------------------------------------------------------\n",
      "                         :        CvsL1:       0.60054       0.33982   [      0.021406       0.99883 ]\n",
      "                         :        CvsB1:       0.40695       0.31020   [    7.4239e-06       0.96500 ]\n",
      "                         :        CvsL2:       0.67105       0.32529   [      0.025552       0.99898 ]\n",
      "                         :        CvsB2:       0.30812       0.30779   [    4.6577e-06       0.96849 ]\n",
      "                         :        CvsL3:       0.63455       0.33972   [      0.013965       0.99873 ]\n",
      "                         :        CvsB3:       0.32776       0.31202   [    3.3055e-06       0.95929 ]\n",
      "                         : t_m_lep_jet1:        211.26        124.56   [        22.165        3531.3 ]\n",
      "                         :    t_dphi_ll:    0.00039594        2.0594   [       -3.1416        3.1416 ]\n",
      "                         :      t_pt_l1:        79.866        41.243   [        30.001        1134.9 ]\n",
      "                         :      t_pt_l2:        43.148        20.877   [        20.000        485.64 ]\n",
      "                         :     t_eta_l1:    -0.0025545        1.0360   [       -2.4000        2.3999 ]\n",
      "                         :     t_eta_l2:    -0.0045932        1.0820   [       -2.4000        2.3999 ]\n",
      "                         :     t_phi_l1:    -0.0090716        1.8086   [       -3.1416        3.1415 ]\n",
      "                         :     t_phi_l2:     -0.021820        1.8098   [       -3.1416        3.1416 ]\n",
      "                         :      t_pt_j1:        151.36        77.560   [        21.011        1815.5 ]\n",
      "                         :      t_pt_j2:        93.881        46.924   [        20.014        1310.2 ]\n",
      "                         :      t_pt_j3:        57.954        28.916   [        20.000        514.68 ]\n",
      "                         :     t_eta_j1:    -0.0051170        1.0011   [       -2.3999        2.4000 ]\n",
      "                         :     t_eta_j2:    -0.0065700        1.0552   [       -2.3999        2.3998 ]\n",
      "                         :     t_eta_j3:    -0.0052109        1.1270   [       -2.4000        2.4000 ]\n",
      "                         :     t_phi_j1:     -0.022441        1.8067   [       -3.1416        3.1415 ]\n",
      "                         :     t_phi_j2:     -0.018136        1.8107   [       -3.1415        3.1415 ]\n",
      "                         :     t_phi_j3:     -0.013968        1.8081   [       -3.1416        3.1415 ]\n",
      "                         :         t_HT:        340.54        148.88   [        0.0000        3308.2 ]\n",
      "                         : -------------------------------------------------------------------------------\n",
      "                         : \u001b[32m\n",
      "                         : <PlotVariables> Will not produce scatter plots ==> \n",
      "                         : |  The number of 24 input variables and 0 target values would require 276 two-dimensional\n",
      "                         : |  histograms, which would occupy the computer's memory. Note that this\n",
      "                         : |  suppression does not have any consequences for your analysis, other\n",
      "                         : |  than not disposing of these scatter plots. You can modify the maximum\n",
      "                         : |  number of input variables allowed to generate scatter plots in your\n",
      "                         : |  script via the command line:\n",
      "                         : |  \"(TMVA::gConfig().GetVariablePlotting()).fMaxNumOfAllowedVariablesForScatterPlots = <some int>;\"\u001b[0m\n",
      "                         : \n",
      "                         : Some more output\n",
      "                         : \n",
      "                         : Evaluation results ranked by best signal efficiency and purity (area)\n",
      "                         : -------------------------------------------------------------------------------------------------------------------\n",
      "                         : DataSet       MVA                       \n",
      "                         : Name:         Method:          ROC-integ\n",
      "                         : dataset       BDT            : 0.590\n",
      "                         : -------------------------------------------------------------------------------------------------------------------\n",
      "                         : \n",
      "                         : Testing efficiency compared to training efficiency (overtraining check)\n",
      "                         : -------------------------------------------------------------------------------------------------------------------\n",
      "                         : DataSet              MVA              Signal efficiency: from test sample (from training sample) \n",
      "                         : Name:                Method:          @B=0.01             @B=0.10            @B=0.30   \n",
      "                         : -------------------------------------------------------------------------------------------------------------------\n",
      "                         : dataset              BDT            : 0.024 (0.021)       0.181 (0.172)      0.425 (0.414)\n",
      "                         : -------------------------------------------------------------------------------------------------------------------\n",
      "                         : \n",
      "Dataset:dataset          : Created tree 'TestTree' with 274298 events\n",
      "                         : \n",
      "Dataset:dataset          : Created tree 'TrainTree' with 274298 events\n",
      "                         : \n",
      "Factory                  : \u001b[1mThank you for using TMVA!\u001b[0m\n",
      "                         : \u001b[1mFor citation information, please visit: http://tmva.sf.net/citeTMVA.html\u001b[0m\n"
     ]
    }
   ],
   "source": [
    "factory.EvaluateAllMethods();"
   ]
  },
  {
   "cell_type": "markdown",
   "metadata": {},
   "source": [
    "## Plot ROC Curve\n",
    "We enable JavaScript visualisation for the plots"
   ]
  },
  {
   "cell_type": "code",
   "execution_count": null,
   "metadata": {},
   "outputs": [],
   "source": [
    "#%jsroot on"
   ]
  },
  {
   "cell_type": "code",
   "execution_count": 10,
   "metadata": {},
   "outputs": [
    {
     "data": {
      "image/png": "[encoded data removed]",
      "text/plain": [
       "<IPython.core.display.Image object>"
      ]
     },
     "metadata": {},
     "output_type": "display_data"
    }
   ],
   "source": [
    "c1 = factory.GetROCCurve(loader);\n",
    "c1.Draw();\n"
   ]
  },
  {
   "cell_type": "markdown",
   "metadata": {},
   "source": [
    "####  Close outputfile to save all output information (evaluation result of methods)"
   ]
  },
  {
   "cell_type": "code",
   "execution_count": 11,
   "metadata": {},
   "outputs": [],
   "source": [
    "outputFile.Close();"
   ]
  },
  {
   "cell_type": "code",
   "execution_count": null,
   "metadata": {},
   "outputs": [],
   "source": []
  }
 ],
 "metadata": {
  "kernelspec": {
   "display_name": "Python 3",
   "language": "python",
   "name": "python3"
  },
  "language_info": {
   "codemirror_mode": {
    "name": "ipython",
    "version": 3
   },
   "file_extension": ".py",
   "mimetype": "text/x-python",
   "name": "python",
   "nbconvert_exporter": "python",
   "pygments_lexer": "ipython3",
   "version": "3.7.6"
  }
 },
 "nbformat": 4,
 "nbformat_minor": 1
}
